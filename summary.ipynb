{
 "cells": [
  {
   "cell_type": "code",
   "execution_count": 5,
   "metadata": {},
   "outputs": [],
   "source": [
    "# Read data from \"data/data_2017_2021.csv\" and \"data/data_2022_2023.csv\"\n",
    "\n",
    "import pandas as pd\n",
    "import numpy as np\n",
    "import matplotlib.pyplot as plt\n",
    "import seaborn as sns\n",
    "\n",
    "# Read data\n",
    "data_2017_2021 = pd.read_csv(\"data/data_2017_2021.csv\")\n",
    "data_2022_2023 = pd.read_csv(\"data/data_2022_2023.csv\")\n",
    "\n",
    "# Split data_2022_2023 by Gender\n",
    "men_athletes_data = data_2022_2023[data_2022_2023[\"Gender\"] == \"m\"]\n",
    "women_athletes_data = data_2022_2023[data_2022_2023[\"Gender\"] == \"w\"]\n",
    "\n",
    "# Split men_athletes_data and women_athletes_data by \"Country\" into 2 lists\n",
    "men_countries = men_athletes_data[\"Country\"].unique()\n",
    "men_country_athlete_dict = {country: men_athletes_data[men_athletes_data[\"Country\"] == country] for country in men_countries}\n",
    "\n",
    "women_countries = women_athletes_data[\"Country\"].unique()\n",
    "women_country_athlete_dict = {country: women_athletes_data[women_athletes_data[\"Country\"] == country] for country in women_countries}\n",
    "\n",
    "# For men_country_athlete_dict and women_country_athlete_dict, select the top 9 countries with most entries\n",
    "# Select the top 9 countries with the most entries for both men and women\n",
    "k = 9\n",
    "men_top_countries = men_athletes_data[\"Country\"].value_counts().head(k).index.tolist()\n",
    "women_top_countries = women_athletes_data[\"Country\"].value_counts().head(k).index.tolist()\n",
    "# Filter the men_country_athlete_dict and women_country_athlete_dict by the top 9 countries\n",
    "men_country_athlete_dict_9 = {country: data for country, data in men_country_athlete_dict.items() if country in men_top_countries}\n",
    "women_country_athlete_dict_9 = {country: data for country, data in women_country_athlete_dict.items() if country in women_top_countries}"
   ]
  },
  {
   "cell_type": "code",
   "execution_count": 4,
   "metadata": {},
   "outputs": [],
   "source": [
    "# test space\n",
    "tmp = men_country_athlete_dict[\"USA\"]\n"
   ]
  }
 ],
 "metadata": {
  "kernelspec": {
   "display_name": "base",
   "language": "python",
   "name": "python3"
  },
  "language_info": {
   "codemirror_mode": {
    "name": "ipython",
    "version": 3
   },
   "file_extension": ".py",
   "mimetype": "text/x-python",
   "name": "python",
   "nbconvert_exporter": "python",
   "pygments_lexer": "ipython3",
   "version": "3.10.9"
  },
  "orig_nbformat": 4
 },
 "nbformat": 4,
 "nbformat_minor": 2
}
